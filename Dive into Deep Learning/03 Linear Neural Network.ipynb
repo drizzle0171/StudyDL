{
  "nbformat": 4,
  "nbformat_minor": 0,
  "metadata": {
    "colab": {
      "name": "03 Linear Neural Network.ipynb",
      "provenance": []
    },
    "kernelspec": {
      "name": "python3",
      "display_name": "Python 3"
    },
    "language_info": {
      "name": "python"
    },
    "accelerator": "GPU"
  },
  "cells": [
    {
      "cell_type": "markdown",
      "source": [
        "# Vectorization for Speed"
      ],
      "metadata": {
        "id": "_fXL3VlBg-Ye"
      }
    },
    {
      "cell_type": "code",
      "source": [
        "import math\n",
        "import time\n",
        "import numpy as np\n",
        "import torch"
      ],
      "metadata": {
        "id": "pHt99523g-D3"
      },
      "execution_count": null,
      "outputs": []
    },
    {
      "cell_type": "code",
      "source": [
        "n = 10000\n",
        "a = torch.ones(n)\n",
        "b = torch.ones(n)"
      ],
      "metadata": {
        "id": "YEt0UWZjhRY-"
      },
      "execution_count": null,
      "outputs": []
    },
    {
      "cell_type": "code",
      "source": [
        "class Timer:\n",
        "    #record multiple running times\n",
        "    def __init__(self):\n",
        "      self.times = []\n",
        "      self.start()\n",
        "    \n",
        "    def start(self):\n",
        "    #start the timer\n",
        "      self.tik = time.time()\n",
        "    \n",
        "    def stop(self):\n",
        "    #stop the timer and record time in a list\n",
        "      self.times.append(time.time() - self.tik)\n",
        "      return self.times[-1]\n",
        "    \n",
        "    def avg(self):\n",
        "    #return the average time\n",
        "      return sum(self.times) / len(self.times)\n",
        "    \n",
        "    def sum(self):\n",
        "    #return the sum of time\n",
        "      return sum(self.times)\n",
        "\n",
        "    def cumsum(self):\n",
        "    #return the accumulated time\n",
        "      return np.array(self.times).cumsum().tolist()      "
      ],
      "metadata": {
        "id": "TyWlKDZahXYV"
      },
      "execution_count": null,
      "outputs": []
    },
    {
      "cell_type": "code",
      "source": [
        "c = torch.zeros(n)\n",
        "timer = Timer()\n",
        "for i in range(n):\n",
        "  c[i] = a[i] + b[i]\n",
        "\n",
        "f'{timer.stop(): .5f} sec'"
      ],
      "metadata": {
        "colab": {
          "base_uri": "https://localhost:8080/",
          "height": 35
        },
        "id": "3GUb7FQBiYN5",
        "outputId": "2808707a-8115-4d6f-dd68-538da1c70eae"
      },
      "execution_count": null,
      "outputs": [
        {
          "output_type": "execute_result",
          "data": {
            "application/vnd.google.colaboratory.intrinsic+json": {
              "type": "string"
            },
            "text/plain": [
              "' 0.11897 sec'"
            ]
          },
          "metadata": {},
          "execution_count": 82
        }
      ]
    },
    {
      "cell_type": "code",
      "source": [
        "timer.start()\n",
        "d = a + b\n",
        "f'{timer.stop(): .5f} sec'"
      ],
      "metadata": {
        "colab": {
          "base_uri": "https://localhost:8080/",
          "height": 35
        },
        "id": "oId6XEc4ir7O",
        "outputId": "a9dec1e0-dbcd-4e3c-ef0c-b7976fef05a5"
      },
      "execution_count": null,
      "outputs": [
        {
          "output_type": "execute_result",
          "data": {
            "application/vnd.google.colaboratory.intrinsic+json": {
              "type": "string"
            },
            "text/plain": [
              "' 0.00022 sec'"
            ]
          },
          "metadata": {},
          "execution_count": 83
        }
      ]
    },
    {
      "cell_type": "markdown",
      "source": [
        "# Linear Regression Implementation from Scratch"
      ],
      "metadata": {
        "id": "91SQM0ukNQMC"
      }
    },
    {
      "cell_type": "code",
      "source": [
        "import random\n",
        "import torch"
      ],
      "metadata": {
        "id": "Jl5VcfUNNQgu"
      },
      "execution_count": null,
      "outputs": []
    },
    {
      "cell_type": "code",
      "source": [
        "#Generating the Dataset\n",
        "\n",
        "def synthetic_data(w, b, num_examples):\n",
        "  \"\"\"Generate y = Xw + b + noise\"\"\"\n",
        "  X = torch.normal(0, 1, (num_examples, len(w))) \n",
        "  #making normal distribution (mean = 0, std = 16)\n",
        "  #(num_examples, len(w)) = size -> a sequence of integers defining the shape of the ouput tensor\n",
        "  y = torch.matmul(X, w) + b\n",
        "  y += torch.normal(0, 0.01, y.shape)\n",
        "  return X, y.reshape((-1, 1))\n",
        "  # -1 -> estimating from the dimention\n",
        "  # 1 -> confirmed by user\n",
        "  # y: 1차원의 타켓 값으로 재구성"
      ],
      "metadata": {
        "id": "rhrCg5-7J80f"
      },
      "execution_count": null,
      "outputs": []
    },
    {
      "cell_type": "code",
      "source": [
        "true_w = torch.tensor([2, -3.4])\n",
        "true_b = 4.2\n",
        "features, labels = synthetic_data(true_w, true_b, 1000)"
      ],
      "metadata": {
        "id": "HopU5nN1LLgC"
      },
      "execution_count": null,
      "outputs": []
    },
    {
      "cell_type": "code",
      "source": [
        "print('features: ', features[0], '\\nlabel: ', labels[0])"
      ],
      "metadata": {
        "colab": {
          "base_uri": "https://localhost:8080/"
        },
        "id": "ACIbxVJGMMwd",
        "outputId": "67e730f0-afcc-486e-f2c2-88bec5c811bf"
      },
      "execution_count": null,
      "outputs": [
        {
          "output_type": "stream",
          "name": "stdout",
          "text": [
            "features:  tensor([0.1274, 0.2056]) \n",
            "label:  tensor([3.7605])\n"
          ]
        }
      ]
    },
    {
      "cell_type": "code",
      "source": [
        "# Reading the dataset\n",
        "\n",
        "#data_iter: 임의로 선택된 feature과 tag들을 batch size 만큼 리턴\n",
        "#왜 하나의 샘플을 사용하지 않고 여러 샘플을 사용? -> 최적화를 효율적으로!\n",
        "def data_iter(batch_size, features, labels):\n",
        "  num_examples = len(features)\n",
        "  indices = list(range(num_examples))\n",
        "  random.shuffle(indices)\n",
        "\n",
        "  #이 함수 이해 !!!\n",
        "  for i in range(0, num_examples, batch_size):\n",
        "    batch_indices = torch.tensor(\n",
        "        indices[i: min(i + batch_size, num_examples)])\n",
        "    yield features[batch_indices], labels[batch_indices]\n",
        "\n",
        "print(features)"
      ],
      "metadata": {
        "id": "dZeKZE99Mk6w",
        "colab": {
          "base_uri": "https://localhost:8080/"
        },
        "outputId": "1b58ccc8-6c51-4660-841c-48c921c4eed3"
      },
      "execution_count": null,
      "outputs": [
        {
          "output_type": "stream",
          "name": "stdout",
          "text": [
            "tensor([[ 0.1274,  0.2056],\n",
            "        [-0.1433, -0.1441],\n",
            "        [ 0.9791, -0.0210],\n",
            "        ...,\n",
            "        [ 1.5446,  0.3801],\n",
            "        [-0.0962,  1.3439],\n",
            "        [ 0.1837, -0.4814]])\n"
          ]
        }
      ]
    },
    {
      "cell_type": "code",
      "source": [
        "batch_size = 10\n",
        "\n",
        "for X, y in data_iter(batch_size, features, labels):\n",
        "  print(X, '\\n', y)\n",
        "  break"
      ],
      "metadata": {
        "colab": {
          "base_uri": "https://localhost:8080/"
        },
        "id": "GQJf_070NhVE",
        "outputId": "b6256019-1e6c-4cb3-bcad-75b735b50713"
      },
      "execution_count": null,
      "outputs": [
        {
          "output_type": "stream",
          "name": "stdout",
          "text": [
            "tensor([[ 0.6433,  0.9123],\n",
            "        [-0.2261,  1.1952],\n",
            "        [ 1.8414,  2.7158],\n",
            "        [ 0.1126, -0.7801],\n",
            "        [-1.3434,  0.7835],\n",
            "        [ 0.7595, -0.2017],\n",
            "        [ 1.4274,  0.7390],\n",
            "        [ 0.3587,  0.2088],\n",
            "        [-0.2521, -0.1899],\n",
            "        [-0.4096, -1.0497]]) \n",
            " tensor([[ 2.3926],\n",
            "        [-0.3056],\n",
            "        [-1.3597],\n",
            "        [ 7.0856],\n",
            "        [-1.1484],\n",
            "        [ 6.4044],\n",
            "        [ 4.5518],\n",
            "        [ 4.1995],\n",
            "        [ 4.3429],\n",
            "        [ 6.9621]])\n"
          ]
        }
      ]
    },
    {
      "cell_type": "code",
      "source": [
        "#Initializing Model Parameters\n",
        "\n",
        "w = torch.normal(0, 0.01, size = (2,1), requires_grad=True)\n",
        "b = torch.zeros(1, requires_grad=True)\n",
        "#requires_grad 속성을 True로 설정 = 그 tensor에서 이뤄진 모든 연산들을 추적"
      ],
      "metadata": {
        "id": "iqCFKug7Nue_"
      },
      "execution_count": null,
      "outputs": []
    },
    {
      "cell_type": "code",
      "source": [
        "#Defining the Model\n",
        "\n",
        "def linreg(X, w, b):\n",
        "  \"\"\"The linear regression model\"\"\"\n",
        "  return torch.matmul(X, w) + b"
      ],
      "metadata": {
        "id": "DUJamfmcN39D"
      },
      "execution_count": null,
      "outputs": []
    },
    {
      "cell_type": "code",
      "source": [
        "#Defining the Loss Function\n",
        "\n",
        "def squared_loss(y_hat, y):\n",
        "  \"\"\"Squred loss\"\"\"\n",
        "  return (y_hat - y.reshape(y_hat.shape))**2 /2\n",
        "  #y의 모양을 y_hat의 모양과 동일하게 바꿈"
      ],
      "metadata": {
        "id": "VvCvFlM9OBLF"
      },
      "execution_count": null,
      "outputs": []
    },
    {
      "cell_type": "code",
      "source": [
        "#Defining the Optimization Algorithm\n",
        "\n",
        "def sgd(params, lr, batch_size):\n",
        "  \"\"\"Minibatch stochastic gradient descent\"\"\"\n",
        "  with torch.no_grad(): \n",
        "    #메모리 사용량을 줄이기 위한 것 -> autograd가 requires_grad = True인 Tensor들의 연산 기록을 추적하는 것을 멈출 수 있음\n",
        "    for param in params:\n",
        "      param -= lr * param.grad / batch_size\n",
        "      param.grad.zero_()"
      ],
      "metadata": {
        "id": "0pLbCxe2ON3H"
      },
      "execution_count": null,
      "outputs": []
    },
    {
      "cell_type": "code",
      "source": [
        "#Training\n",
        "\n",
        "lr = 0.03\n",
        "num_epochs = 10\n",
        "net = linreg\n",
        "loss = squared_loss"
      ],
      "metadata": {
        "id": "pdQYWxwuOkn_"
      },
      "execution_count": null,
      "outputs": []
    },
    {
      "cell_type": "code",
      "source": [
        "for epoch in range(num_epochs):\n",
        "  for X, y in data_iter(batch_size, features, labels):\n",
        "    l = loss(net(X, w, b), y)\n",
        "    l.sum().backward() #역전파 Backward Propagation\n",
        "    sgd([w, b], lr, batch_size)\n",
        "  with torch.no_grad():\n",
        "      train_l = loss(net(features, w, b), labels)\n",
        "      print(f'epoch {epoch + 1}, loss {float(train_l.mean()): f}')"
      ],
      "metadata": {
        "colab": {
          "base_uri": "https://localhost:8080/"
        },
        "id": "ocCPwAY5Osc_",
        "outputId": "45b558ca-d955-41e7-aec5-f777fcba74db"
      },
      "execution_count": null,
      "outputs": [
        {
          "output_type": "stream",
          "name": "stdout",
          "text": [
            "epoch 1, loss  0.033106\n",
            "epoch 2, loss  0.000116\n",
            "epoch 3, loss  0.000048\n",
            "epoch 4, loss  0.000048\n",
            "epoch 5, loss  0.000048\n",
            "epoch 6, loss  0.000048\n",
            "epoch 7, loss  0.000048\n",
            "epoch 8, loss  0.000048\n",
            "epoch 9, loss  0.000048\n",
            "epoch 10, loss  0.000048\n"
          ]
        }
      ]
    },
    {
      "cell_type": "code",
      "source": [
        "print(f'error in estimating w: {true_w - w.reshape(true_w.shape)}')\n",
        "print(f'error in estimating b: {true_b - b}')"
      ],
      "metadata": {
        "colab": {
          "base_uri": "https://localhost:8080/"
        },
        "id": "ZVqnJDyqPed8",
        "outputId": "c5e97eea-e315-42d5-d6d6-6e01fa490d19"
      },
      "execution_count": null,
      "outputs": [
        {
          "output_type": "stream",
          "name": "stdout",
          "text": [
            "error in estimating w: tensor([ 0.0006, -0.0003], grad_fn=<SubBackward0>)\n",
            "error in estimating b: tensor([9.7752e-05], grad_fn=<RsubBackward1>)\n"
          ]
        }
      ]
    },
    {
      "cell_type": "markdown",
      "source": [
        "# Concise Implementation of Linear Regression"
      ],
      "metadata": {
        "id": "1pVX-TKFbLVW"
      }
    },
    {
      "cell_type": "code",
      "source": [
        "#Generating the Dataset\n",
        "\n",
        "from torch.utils import data"
      ],
      "metadata": {
        "id": "dfdoNpzebKjj"
      },
      "execution_count": null,
      "outputs": []
    },
    {
      "cell_type": "code",
      "source": [
        "true_w = torch.tensor([2, -3.4])\n",
        "true_b = 4.2\n",
        "features, labels = synthetic_data(true_w, true_b, 1000)"
      ],
      "metadata": {
        "id": "WW79TxWzbcyk"
      },
      "execution_count": null,
      "outputs": []
    },
    {
      "cell_type": "code",
      "source": [
        "#Reading the Dataset\n",
        "\n",
        "def load_array(data_arrays, batch_size, is_train=True):\n",
        "  \"\"\"Construct a PyTorch data iterator.\"\"\"\n",
        "  dataset = data.TensorDataset(*data_arrays)\n",
        "  return data.DataLoader(dataset, batch_size, shuffle=is_train)"
      ],
      "metadata": {
        "id": "LqPBpDHrbqNp"
      },
      "execution_count": null,
      "outputs": []
    },
    {
      "cell_type": "code",
      "source": [
        "batch_size = 10\n",
        "data_iter = load_array((features, labels), batch_size)\n",
        "next(iter(data_iter))"
      ],
      "metadata": {
        "colab": {
          "base_uri": "https://localhost:8080/"
        },
        "id": "Fv9gsUYKcB4k",
        "outputId": "972fd94d-7fce-4a1b-d091-a32bf7da1696"
      },
      "execution_count": null,
      "outputs": [
        {
          "output_type": "execute_result",
          "data": {
            "text/plain": [
              "[tensor([[-1.1852, -1.0132],\n",
              "         [-0.6415,  0.6876],\n",
              "         [-2.0347, -0.1628],\n",
              "         [-1.0914, -0.9063],\n",
              "         [ 2.2670,  0.5832],\n",
              "         [-2.0801, -0.7598],\n",
              "         [ 0.5169,  1.1393],\n",
              "         [ 0.6723, -1.4743],\n",
              "         [-0.0640, -1.5647],\n",
              "         [-0.9730, -0.2962]]), tensor([[ 5.2654],\n",
              "         [ 0.5633],\n",
              "         [ 0.6988],\n",
              "         [ 5.0911],\n",
              "         [ 6.7722],\n",
              "         [ 2.6255],\n",
              "         [ 1.3579],\n",
              "         [10.5722],\n",
              "         [ 9.3766],\n",
              "         [ 3.2472]])]"
            ]
          },
          "metadata": {},
          "execution_count": 100
        }
      ]
    },
    {
      "cell_type": "code",
      "source": [
        "#Defining the Model\n",
        "\n",
        "from torch import nn\n",
        "\n",
        "net = nn.Sequential(nn.Linear(2,1))"
      ],
      "metadata": {
        "id": "cxcudBTwcOPY"
      },
      "execution_count": null,
      "outputs": []
    },
    {
      "cell_type": "code",
      "source": [
        "#Initailizing Model Parameters\n",
        "\n",
        "net[0].weight.data.normal_(0, 0.01)\n",
        "net[0].bias.data.fill_(0)"
      ],
      "metadata": {
        "colab": {
          "base_uri": "https://localhost:8080/"
        },
        "id": "j0g0yxwRcguS",
        "outputId": "db0a6bcc-dba5-48ce-a11e-99230a25282e"
      },
      "execution_count": null,
      "outputs": [
        {
          "output_type": "execute_result",
          "data": {
            "text/plain": [
              "tensor([0.])"
            ]
          },
          "metadata": {},
          "execution_count": 102
        }
      ]
    },
    {
      "cell_type": "code",
      "source": [
        "#Defining the Loss Function\n",
        "\n",
        "loss = nn.MSELoss()"
      ],
      "metadata": {
        "id": "B7lgPRokct6Z"
      },
      "execution_count": null,
      "outputs": []
    },
    {
      "cell_type": "code",
      "source": [
        "#Defining the Optimization Algorithm\n",
        "\n",
        "trainer = torch.optim.SGD(net.parameters(), lr = 0.03)"
      ],
      "metadata": {
        "id": "IO3rf6Lic2xv"
      },
      "execution_count": null,
      "outputs": []
    },
    {
      "cell_type": "code",
      "source": [
        "#Training\n",
        "\n",
        "num_epochs = 3\n",
        "for epoch in range(num_epochs):\n",
        "  for X, y in data_iter:\n",
        "    l = loss(net(X), y)\n",
        "    trainer.zero_grad()\n",
        "    l.backward()\n",
        "    trainer.step()\n",
        "  l = loss(net(features), labels)\n",
        "  print(f'epoch {epoch+1}, loss {l:f}')"
      ],
      "metadata": {
        "colab": {
          "base_uri": "https://localhost:8080/"
        },
        "id": "75jkFTCGdBmN",
        "outputId": "0c82be25-620f-4c53-b71b-f445936fe204"
      },
      "execution_count": null,
      "outputs": [
        {
          "output_type": "stream",
          "name": "stdout",
          "text": [
            "epoch 1, loss 0.000305\n",
            "epoch 2, loss 0.000109\n",
            "epoch 3, loss 0.000109\n"
          ]
        }
      ]
    },
    {
      "cell_type": "code",
      "source": [
        "w = net[0].weight.data\n",
        "print('error in estimating w: ', true_w - w.reshape(true_w.shape))\n",
        "b = net[0].bias.data\n",
        "print('error in estimating b: ', true_b - b)"
      ],
      "metadata": {
        "colab": {
          "base_uri": "https://localhost:8080/"
        },
        "id": "tAOn-DO-0WDN",
        "outputId": "81208990-1276-49db-bdb2-8dc862e524b7"
      },
      "execution_count": null,
      "outputs": [
        {
          "output_type": "stream",
          "name": "stdout",
          "text": [
            "error in estimating w:  tensor([0.0007, 0.0003])\n",
            "error in estimating b:  tensor([-0.0012])\n"
          ]
        }
      ]
    },
    {
      "cell_type": "markdown",
      "source": [
        "# The Image Classification Dataset"
      ],
      "metadata": {
        "id": "iaAY_BJ3NWPN"
      }
    },
    {
      "cell_type": "code",
      "source": [
        "import torchvision\n",
        "from torchvision import transforms\n",
        "import matplotlib.pyplot as plt"
      ],
      "metadata": {
        "id": "tvCOTOHqNVpe"
      },
      "execution_count": null,
      "outputs": []
    },
    {
      "cell_type": "code",
      "source": [
        "from numpy.core.numeric import True_\n",
        "\n",
        "#Reading the Dataset\n",
        "\n",
        "trans = transforms.ToTensor()\n",
        "mnist_train = torchvision.datasets.FashionMNIST(\n",
        "    root = \"../data\", train=True, transform=trans, download=True\n",
        ")\n",
        "mnist_test = torchvision.datasets.FashionMNIST(\n",
        "    root=\"../data\", train=False, transform=trans, download=True\n",
        ")"
      ],
      "metadata": {
        "id": "p11l9-zuNiQR"
      },
      "execution_count": null,
      "outputs": []
    },
    {
      "cell_type": "code",
      "source": [
        "len(mnist_train), len(mnist_test)"
      ],
      "metadata": {
        "colab": {
          "base_uri": "https://localhost:8080/"
        },
        "id": "y4GUbM1VOHqN",
        "outputId": "ff42c793-cea4-4718-ebb8-c854f224ed63"
      },
      "execution_count": null,
      "outputs": [
        {
          "output_type": "execute_result",
          "data": {
            "text/plain": [
              "(60000, 10000)"
            ]
          },
          "metadata": {},
          "execution_count": 109
        }
      ]
    },
    {
      "cell_type": "code",
      "source": [
        "mnist_train[0][0].shape"
      ],
      "metadata": {
        "colab": {
          "base_uri": "https://localhost:8080/"
        },
        "id": "p0H4hPMdOMn8",
        "outputId": "ff8ff66c-6e86-4379-cdef-7ec57d89e1d8"
      },
      "execution_count": null,
      "outputs": [
        {
          "output_type": "execute_result",
          "data": {
            "text/plain": [
              "torch.Size([1, 28, 28])"
            ]
          },
          "metadata": {},
          "execution_count": 110
        }
      ]
    },
    {
      "cell_type": "code",
      "source": [
        "def get_fashion_mnist_label(labels):\n",
        "  \"\"\"Return text labels for the Fashion-MNIST dataset.\"\"\"\n",
        "  text_labels = ['t-shirt', 'trouser', 'pullover', 'dress', 'coat', 'sandal', 'shirt', 'sneaker', 'bag', 'ankle boot']\n",
        "  return [text_labels[int(i)] for i in labels] "
      ],
      "metadata": {
        "id": "0JO_icyUOYZb"
      },
      "execution_count": null,
      "outputs": []
    },
    {
      "cell_type": "code",
      "source": [
        "def show_images(imgs, num_rows, num_cols, titles = None, scale = 2):\n",
        "  figsize = (num_cols * scale, num_rows*scale)\n",
        "  _, axes = plt.subplots(num_rows, num_cols, figsize = figsize)\n",
        "  axes = axes.flatten()\n",
        "  for i, (ax, img) in enumerate(zip(axes, imgs)):\n",
        "    if torch.is_tensor(img):\n",
        "      ax.imshow(img.numpy())\n",
        "    else:\n",
        "      ax.imshow(img)\n",
        "    ax.axes.get_xaxis().set_visible(False)\n",
        "    ax.axes.get_yaxis().set_visible(False)\n",
        "    if titles:\n",
        "      ax.set_title(titles[i])\n",
        "  return axes"
      ],
      "metadata": {
        "id": "-zYdjy9nO1vw"
      },
      "execution_count": null,
      "outputs": []
    },
    {
      "cell_type": "code",
      "source": [
        "X, y = next(iter(data.DataLoader(mnist_train, batch_size = 18)))\n",
        "show_images(X.reshape(18, 28, 28), 2, 9, titles=get_fashion_mnist_label(y));"
      ],
      "metadata": {
        "colab": {
          "base_uri": "https://localhost:8080/",
          "height": 173
        },
        "id": "sTrg9o0JQOAL",
        "outputId": "bf0430b7-72df-4371-ee78-8d1714886412"
      },
      "execution_count": null,
      "outputs": [
        {
          "output_type": "display_data",
          "data": {
            "image/png": "[encoded data removed]",
            "text/plain": [
              "<Figure size 1296x288 with 18 Axes>"
            ]
          },
          "metadata": {
            "needs_background": "light"
          }
        }
      ]
    },
    {
      "cell_type": "code",
      "source": [
        "#Reading a Minibatch\n",
        "\n",
        "batch_size = 256\n",
        "def get_dataloader_workers():\n",
        "  return 4\n",
        "\n",
        "train_iter = data.DataLoader(mnist_train, batch_size, shuffle=True, num_workers=get_dataloader_workers())"
      ],
      "metadata": {
        "colab": {
          "base_uri": "https://localhost:8080/"
        },
        "id": "5Ykp758OQhju",
        "outputId": "d6d58dbb-adb5-4374-fb78-1f40a9487009"
      },
      "execution_count": null,
      "outputs": [
        {
          "output_type": "stream",
          "name": "stderr",
          "text": [
            "/usr/local/lib/python3.7/dist-packages/torch/utils/data/dataloader.py:481: UserWarning: This DataLoader will create 4 worker processes in total. Our suggested max number of worker in current system is 2, which is smaller than what this DataLoader is going to create. Please be aware that excessive worker creation might get DataLoader running slow or even freeze, lower the worker number to avoid potential slowness/freeze if necessary.\n",
            "  cpuset_checked))\n"
          ]
        }
      ]
    },
    {
      "cell_type": "code",
      "source": [
        "#Putting All Things Together\n",
        "\n",
        "def load_data_fashion_mnist(batch_size, resize=None):\n",
        "  \"\"\"Download the Fashion-MNIST dataset and then load it into memory.\"\"\"\n",
        "  trans = [transforms.ToTensor()]\n",
        "  if resize:\n",
        "    trans.insert(0, transforms.Resize(resize))\n",
        "  trans = transforms.Compose(trans)\n",
        "  mnist_train = torchvision.datasets.FashionMNIST(\n",
        "  root=\"../data\", train=True, transform=trans, download=True)\n",
        "  mnist_test = torchvision.datasets.FashionMNIST(\n",
        "  root=\"../data\", train=False, transform=trans, download=True)\n",
        "  return (data.DataLoader(mnist_train, batch_size, shuffle=True,\n",
        "  num_workers=get_dataloader_workers()),\n",
        "  data.DataLoader(mnist_test, batch_size, shuffle=False,\n",
        "  num_workers=get_dataloader_workers()))\n"
      ],
      "metadata": {
        "id": "iwfN0Pn-R0UC"
      },
      "execution_count": null,
      "outputs": []
    },
    {
      "cell_type": "code",
      "source": [
        "train_iter, test_iter = load_data_fashion_mnist(32, resize=64)\n",
        "for X, y in train_iter:\n",
        "  print(X.shape, X.dtype, y.shape, y.dtype)\n",
        "  break"
      ],
      "metadata": {
        "colab": {
          "base_uri": "https://localhost:8080/"
        },
        "id": "OZgGhzEoSIBi",
        "outputId": "3daee19a-6265-43fe-a501-83df51943cd5"
      },
      "execution_count": null,
      "outputs": [
        {
          "output_type": "stream",
          "name": "stderr",
          "text": [
            "/usr/local/lib/python3.7/dist-packages/torch/utils/data/dataloader.py:481: UserWarning: This DataLoader will create 4 worker processes in total. Our suggested max number of worker in current system is 2, which is smaller than what this DataLoader is going to create. Please be aware that excessive worker creation might get DataLoader running slow or even freeze, lower the worker number to avoid potential slowness/freeze if necessary.\n",
            "  cpuset_checked))\n"
          ]
        },
        {
          "output_type": "stream",
          "name": "stdout",
          "text": [
            "torch.Size([32, 1, 64, 64]) torch.float32 torch.Size([32]) torch.int64\n"
          ]
        }
      ]
    },
    {
      "cell_type": "markdown",
      "source": [
        "# Implementation of Softmax Regression from Scratch"
      ],
      "metadata": {
        "id": "xFSVRf5aSXU3"
      }
    },
    {
      "cell_type": "code",
      "source": [
        "batch_size = 256\n",
        "train_iter, test_iter = load_data_fashion_mnist(batch_size)"
      ],
      "metadata": {
        "colab": {
          "base_uri": "https://localhost:8080/"
        },
        "id": "Qq5Yf1zhSeQJ",
        "outputId": "6e73a110-c5e2-4598-dd14-b503405d12ef"
      },
      "execution_count": null,
      "outputs": [
        {
          "output_type": "stream",
          "name": "stderr",
          "text": [
            "/usr/local/lib/python3.7/dist-packages/torch/utils/data/dataloader.py:481: UserWarning: This DataLoader will create 4 worker processes in total. Our suggested max number of worker in current system is 2, which is smaller than what this DataLoader is going to create. Please be aware that excessive worker creation might get DataLoader running slow or even freeze, lower the worker number to avoid potential slowness/freeze if necessary.\n",
            "  cpuset_checked))\n"
          ]
        }
      ]
    },
    {
      "cell_type": "code",
      "source": [
        "#Initializaing Model Parameters\n",
        "\n",
        "num_inputs = 784 #28*28\n",
        "num_outputs = 10 #10개의 카테고리\n",
        "W = torch.normal(0, 0.01, size=(num_inputs, num_outputs), requires_grad=True) #784*10\n",
        "b = torch.zeros(num_outputs, requires_grad=True) #"
      ],
      "metadata": {
        "id": "z7YNa7TjXdtv"
      },
      "execution_count": null,
      "outputs": []
    },
    {
      "cell_type": "code",
      "source": [
        "#Defining the Softmax Operation\n",
        "\n",
        "#example of sum\n",
        "X = torch.tensor([[1.0, 2.0, 3.0], [4.0, 5.0, 6.0]])\n",
        "X.sum(0, keepdim=True), X.sum(1, keepdim=True)\n",
        "Y = X.sum(0, keepdim=True)\n",
        "Z = X.sum(0, keepdim=False)\n",
        "Y.shape, Z.shape\n"
      ],
      "metadata": {
        "colab": {
          "base_uri": "https://localhost:8080/"
        },
        "id": "qgKRn4OQXrDH",
        "outputId": "6b29c4b3-e4dc-4e12-a4a2-476f7ff34bba"
      },
      "execution_count": null,
      "outputs": [
        {
          "output_type": "execute_result",
          "data": {
            "text/plain": [
              "(torch.Size([1, 3]), torch.Size([3]))"
            ]
          },
          "metadata": {},
          "execution_count": 119
        }
      ]
    },
    {
      "cell_type": "code",
      "source": [
        "def softmax(X):\n",
        "  X_exp = torch.exp(X)\n",
        "  partition = X_exp.sum(1, keepdim=True) #분모를 partition이라고 부르기도 하기 때문임\n",
        "  return X_exp / partition\n",
        "\n",
        "X = torch.normal(0, 1, (2, 5))\n",
        "X_prob = softmax(X)\n",
        "X_prob, X_prob.sum(1) #softmax 회귀는 전체 합이 1이기 때문임 "
      ],
      "metadata": {
        "colab": {
          "base_uri": "https://localhost:8080/"
        },
        "id": "-_zodJ8Mb3LZ",
        "outputId": "252a20d8-9171-48d4-d80e-d488fb95bf2a"
      },
      "execution_count": null,
      "outputs": [
        {
          "output_type": "execute_result",
          "data": {
            "text/plain": [
              "(tensor([[0.4707, 0.0683, 0.2371, 0.1302, 0.0937],\n",
              "         [0.3732, 0.0603, 0.4482, 0.0836, 0.0347]]), tensor([1.0000, 1.0000]))"
            ]
          },
          "metadata": {},
          "execution_count": 120
        }
      ]
    },
    {
      "cell_type": "code",
      "source": [
        "#Defining the Model\n",
        "\n",
        "def net(X):\n",
        "  return softmax(torch.matmul(X.reshape((-1, W.shape[0])), W) + b)"
      ],
      "metadata": {
        "id": "lakxk1QFXkaM"
      },
      "execution_count": null,
      "outputs": []
    },
    {
      "cell_type": "code",
      "source": [
        "#Defining the Loss Function\n",
        "\n",
        "y = torch.tensor([0, 2])\n",
        "y_hat = torch.tensor([[0.1, 0.3, 0.6], [0.3, 0.2, 0.5]])\n",
        "y_hat[[0, 1], y]"
      ],
      "metadata": {
        "colab": {
          "base_uri": "https://localhost:8080/"
        },
        "id": "9g00VyVjYF2N",
        "outputId": "fa6db07e-12b0-4e76-9906-863f90194f94"
      },
      "execution_count": null,
      "outputs": [
        {
          "output_type": "execute_result",
          "data": {
            "text/plain": [
              "tensor([0.1000, 0.5000])"
            ]
          },
          "metadata": {},
          "execution_count": 122
        }
      ]
    },
    {
      "cell_type": "code",
      "source": [
        "def cross_entropy(y_hat, y):\n",
        "  return - torch.log(y_hat[range(len(y_hat)), y])\n",
        "cross_entropy(y_hat, y)\n"
      ],
      "metadata": {
        "colab": {
          "base_uri": "https://localhost:8080/"
        },
        "id": "JECgobgoYPlM",
        "outputId": "3da522fe-645b-4226-d0c8-77bd8f3e2d93"
      },
      "execution_count": null,
      "outputs": [
        {
          "output_type": "execute_result",
          "data": {
            "text/plain": [
              "tensor([2.3026, 0.6931])"
            ]
          },
          "metadata": {},
          "execution_count": 123
        }
      ]
    },
    {
      "cell_type": "code",
      "source": [
        "#Classification Accuracy\n",
        "\n",
        "##이 함수 이해하기\n",
        "def accuracy(y_hat, y):\n",
        "  \"\"\"Compute the number of correct predictions.\"\"\"\n",
        "  if len(y_hat.shape) > 1 and y_hat.shape[1] > 1:\n",
        "    y_hat = y_hat.argmax(axis=1) \n",
        "  cmp = y_hat.type(y.dtype) == y #y와 y_hat의 데이터 타입을 맞춰줌\n",
        "  return float(cmp.type(y.dtype).sum())"
      ],
      "metadata": {
        "id": "-9Cl-774YS7B"
      },
      "execution_count": null,
      "outputs": []
    },
    {
      "cell_type": "code",
      "source": [
        "# accuracy(y_hat, y) / len(y)\n",
        "len(y_hat.shape)\n",
        "y_hat.shape"
      ],
      "metadata": {
        "colab": {
          "base_uri": "https://localhost:8080/"
        },
        "id": "vvxtIlUsYYqn",
        "outputId": "1c5fa6ee-8143-4617-aa74-6f26cd612bea"
      },
      "execution_count": null,
      "outputs": [
        {
          "output_type": "execute_result",
          "data": {
            "text/plain": [
              "torch.Size([2, 3])"
            ]
          },
          "metadata": {},
          "execution_count": 125
        }
      ]
    },
    {
      "cell_type": "code",
      "source": [
        "def evaluate_accuracy(net, data_iter):\n",
        "  \"\"\"Compute the accuracy for a model on a dataset.\"\"\"\n",
        "  if isinstance(net, torch.nn.Module):\n",
        "    net.eval() # 평가 모델로 변경\n",
        "  metric = Accumulator(2) # No. of correct predictions, no. of predictions\n",
        "  with torch.no_grad():\n",
        "    for X, y in data_iter:\n",
        "      metric.add(accuracy(net(X), y), y.numel())\n",
        "  return metric[0] / metric[1]"
      ],
      "metadata": {
        "id": "EXguyX3XYjjT"
      },
      "execution_count": null,
      "outputs": []
    },
    {
      "cell_type": "code",
      "source": [
        "class Accumulator:\n",
        "  def __init__(self, n):\n",
        "    self.data = [0.0] * n\n",
        "  def add(self, *args):\n",
        "    self.data = [a + float(b) for a, b in zip(self.data, args)]\n",
        "  def reset(self):\n",
        "    self.data = [0.0] * len(self.data)\n",
        "  def __getitem__(self, idx):\n",
        "    return self.data[idx]"
      ],
      "metadata": {
        "id": "Y4Svz4w6Yqg7"
      },
      "execution_count": null,
      "outputs": []
    },
    {
      "cell_type": "code",
      "source": [
        "evaluate_accuracy(net, test_iter)"
      ],
      "metadata": {
        "colab": {
          "base_uri": "https://localhost:8080/"
        },
        "id": "GlfafLCVcF7m",
        "outputId": "ce2d315d-e7c0-4421-ded2-9a62cc7b7714"
      },
      "execution_count": null,
      "outputs": [
        {
          "output_type": "stream",
          "name": "stderr",
          "text": [
            "/usr/local/lib/python3.7/dist-packages/torch/utils/data/dataloader.py:481: UserWarning: This DataLoader will create 4 worker processes in total. Our suggested max number of worker in current system is 2, which is smaller than what this DataLoader is going to create. Please be aware that excessive worker creation might get DataLoader running slow or even freeze, lower the worker number to avoid potential slowness/freeze if necessary.\n",
            "  cpuset_checked))\n"
          ]
        },
        {
          "output_type": "execute_result",
          "data": {
            "text/plain": [
              "0.0816"
            ]
          },
          "metadata": {},
          "execution_count": 133
        }
      ]
    },
    {
      "cell_type": "code",
      "source": [
        "#Training\n",
        "\n",
        "def train_epoch_ch3(net, train_iter, loss, updater):\n",
        "  \"\"\"The training loop defined in Chapter 3.\"\"\"\n",
        "  # Set the model to training mod\n",
        "  if isinstance(net, torch.nn.Module):\n",
        "    net.train()\n",
        "  # Sum of training loss, sum of training accuracy, no. of examples\n",
        "  metric = Accumulator(3)\n",
        "  for X, y in train_iter:\n",
        "  # Compute gradients and update parameters\n",
        "    y_hat = net(X)\n",
        "    l = loss(y_hat, y)\n",
        "    if isinstance(updater, torch.optim.Optimizer):\n",
        "  # Using PyTorch in-built optimizer & loss criterion\n",
        "      updater.zero_grad()\n",
        "      l.sum().backward()\n",
        "      updater.step()\n",
        "    else:\n",
        "  # Using custom built optimizer & loss criterion\n",
        "      l.sum().backward()\n",
        "      updater(X.shape[0])\n",
        "      metric.add(float(l.sum()), accuracy(y_hat, y), y.numel())\n",
        "  # Return training loss and training accuracy\n",
        "  return metric[0] / metric[2], metric[1] / metric[2]\n"
      ],
      "metadata": {
        "id": "ztIoO_7bY8Dr"
      },
      "execution_count": null,
      "outputs": []
    },
    {
      "cell_type": "code",
      "source": [
        "class Animator:\n",
        "  \"\"\"For plotting data in animation.\"\"\"\n",
        "  def __init__(self, xlabel=None, ylabel=None, legend=None, xlim=None,\n",
        "    ylim=None, xscale='linear', yscale='linear',\n",
        "    fmts=('-', 'm--', 'g-.', 'r:'), nrows=1, ncols=1,\n",
        "    figsize=(3.5, 2.5)):\n",
        "# Incrementally plot multiple lines\n",
        "    if legend is None:\n",
        "      legend = []\n",
        "    self.fig, self.axes = plt.subplots(nrows, ncols, figsize=figsize)\n",
        "    if nrows * ncols == 1:\n",
        "      self.axes = [self.axes, ]\n",
        "    # Use a lambda function to capture arguments\n",
        "    self.config_axes = lambda: set_axes(\n",
        "    self.axes[0], xlabel, ylabel, xlim, ylim, xscale, yscale, legend)\n",
        "    self.X, self.Y, self.fmts = None, None, fmts\n",
        "  def add(self, x, y):\n",
        "  # Add multiple data points into the figure\n",
        "    if not hasattr(y, \"__len__\"):\n",
        "      y = [y]\n",
        "      n = len(y)\n",
        "    if not hasattr(x, \"__len__\"):\n",
        "      x = [x] * n\n",
        "    if not self.X:\n",
        "      self.X = [[] for _ in range(n)]\n",
        "    if not self.Y:\n",
        "      self.Y = [[] for _ in range(n)]\n",
        "    for i, (a, b) in enumerate(zip(x, y)):\n",
        "      if a is not None and b is not None:\n",
        "        self.X[i].append(a)\n",
        "        self.Y[i].append(b)\n",
        "    self.axes[0].cla()\n",
        "    for x, y, fmt in zip(self.X, self.Y, self.fmts):\n",
        "      self.axes[0].plot(x, y, fmt)\n",
        "    self.config_axes()\n",
        "    display.display(self.fig)\n",
        "    display.clear_output(wait=True)\n"
      ],
      "metadata": {
        "id": "ty0nuAWVZYa4"
      },
      "execution_count": null,
      "outputs": []
    },
    {
      "cell_type": "code",
      "source": [
        "def train_ch3(net, train_iter, test_iter, loss, num_epochs, updater):\n",
        "  animator = Animator(xlabel='epoch', xlim = [1, num_epochs], ylim=[0.3, 0.9],\n",
        "                      legend = ['train loss', 'train acc', 'test acc'])\n",
        "  for epoch in range(num_epochs):\n",
        "    train_metrics = train_epoch_ch3(net, train_iter, loss, updater)\n",
        "    test_acc = evaluate_accuracy(net, test_iter)\n",
        "    animator.add(epoch + 1, train_metrics + (test_acc,))\n",
        "  train_loss, train_acc = train_metrics\n",
        "  assert train_loss < 0.5, train_loss\n",
        "  assert train_acc <= 1 and train_acc > 0.7, train_acc\n",
        "  assert test_acc <= 1 and test_acc > 0.7, test_acc"
      ],
      "metadata": {
        "id": "GemHqji3aFbJ"
      },
      "execution_count": null,
      "outputs": []
    },
    {
      "cell_type": "code",
      "source": [
        "lr = 0.1\n",
        "\n",
        "def updater(batch_size):\n",
        "  return sgd([w, b], lr, batch_size)"
      ],
      "metadata": {
        "id": "c30u3fQ3c4Ni"
      },
      "execution_count": null,
      "outputs": []
    },
    {
      "cell_type": "code",
      "source": [
        "#Prediction\n",
        "\n",
        "def predict_ch3(net, test_iter, n=6):\n",
        "  for X, y in test_iter:\n",
        "    break\n",
        "  trues = get_fashion_mnist_label(y)\n",
        "  preds = get_fashion_mnist_label(net(X).argmax(axis=1))\n",
        "  titles = [true + '\\n' + pred for true, pred in zip(trues, preds)]\n",
        "  show_images(\n",
        "      X[0:n].reshape((n, 28, 28)), 1, n, titles=titles[0:n]\n",
        "  )\n",
        "\n",
        "predict_ch3(net, test_iter)"
      ],
      "metadata": {
        "colab": {
          "base_uri": "https://localhost:8080/",
          "height": 209
        },
        "id": "hO1LU0dmeG8J",
        "outputId": "2e60d82b-9946-493c-8bbf-e4b89be9c9f3"
      },
      "execution_count": null,
      "outputs": [
        {
          "output_type": "stream",
          "name": "stderr",
          "text": [
            "/usr/local/lib/python3.7/dist-packages/torch/utils/data/dataloader.py:481: UserWarning: This DataLoader will create 4 worker processes in total. Our suggested max number of worker in current system is 2, which is smaller than what this DataLoader is going to create. Please be aware that excessive worker creation might get DataLoader running slow or even freeze, lower the worker number to avoid potential slowness/freeze if necessary.\n",
            "  cpuset_checked))\n"
          ]
        },
        {
          "output_type": "display_data",
          "data": {
            "image/png": "[encoded data removed]",
            "text/plain": [
              "<Figure size 864x144 with 6 Axes>"
            ]
          },
          "metadata": {
            "needs_background": "light"
          }
        }
      ]
    },
    {
      "cell_type": "markdown",
      "source": [
        "#Concise Implementation of Softmax Regression"
      ],
      "metadata": {
        "id": "LoiAVD7kaIst"
      }
    },
    {
      "cell_type": "code",
      "source": [
        "batch_size = 256\n",
        "train_iter, test_iter = load_data_fashion_mnist(batch_size)"
      ],
      "metadata": {
        "colab": {
          "base_uri": "https://localhost:8080/"
        },
        "id": "rxHUW7ZbaSfC",
        "outputId": "daa26d16-5dec-46e7-a6a6-dfddd7d9ec14"
      },
      "execution_count": null,
      "outputs": [
        {
          "output_type": "stream",
          "name": "stderr",
          "text": [
            "/usr/local/lib/python3.7/dist-packages/torch/utils/data/dataloader.py:481: UserWarning: This DataLoader will create 4 worker processes in total. Our suggested max number of worker in current system is 2, which is smaller than what this DataLoader is going to create. Please be aware that excessive worker creation might get DataLoader running slow or even freeze, lower the worker number to avoid potential slowness/freeze if necessary.\n",
            "  cpuset_checked))\n"
          ]
        }
      ]
    },
    {
      "cell_type": "code",
      "source": [
        "#Initializaing Model Parameters\n",
        "\n",
        "net = nn.Sequential(nn.Flatten(), nn.Linear(784, 10))\n",
        "def init_weights(m):\n",
        "  if type(m) == nn.Linear:\n",
        "    nn.init.normal_(m.weight, std=0.01)\n",
        "net.apply(init_weights);"
      ],
      "metadata": {
        "id": "GEd7PyOhaXKG"
      },
      "execution_count": null,
      "outputs": []
    },
    {
      "cell_type": "code",
      "source": [
        "#Softmax Implementation Revisited\n",
        "\n",
        "loss = nn.CrossEntropyLoss()\n"
      ],
      "metadata": {
        "id": "vh2HiZZ6ag48"
      },
      "execution_count": null,
      "outputs": []
    },
    {
      "cell_type": "code",
      "source": [
        "#Optimization Algorithm\n",
        "\n",
        "trainer = torch.optim.SGD(net.parameters(), lr=0.1)"
      ],
      "metadata": {
        "id": "bh92WbLJapXy"
      },
      "execution_count": null,
      "outputs": []
    }
  ]
}