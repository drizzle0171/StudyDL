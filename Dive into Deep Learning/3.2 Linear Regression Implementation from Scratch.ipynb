{
  "cells": [
    {
      "cell_type": "markdown",
      "metadata": {
        "id": "91SQM0ukNQMC"
      },
      "source": [
        "# Linear Regression Implementation from Scratch"
      ]
    },
    {
      "cell_type": "code",
      "execution_count": 6,
      "metadata": {
        "id": "Jl5VcfUNNQgu"
      },
      "outputs": [],
      "source": [
        "import random\n",
        "import torch"
      ]
    },
    {
      "cell_type": "code",
      "execution_count": 7,
      "metadata": {
        "id": "rhrCg5-7J80f"
      },
      "outputs": [],
      "source": [
        "#Generating the Dataset\n",
        "\n",
        "def synthetic_data(w, b, num_examples):\n",
        "  \"\"\"Generate y = Xw + b + noise\"\"\"\n",
        "  X = torch.normal(0, 1, (num_examples, len(w))) \n",
        "  #making normal distribution (mean = 0, std = 16)\n",
        "  #(num_examples, len(w)) = size -> a sequence of integers defining the shape of the ouput tensor\n",
        "  y = torch.matmul(X, w) + b\n",
        "  y += torch.normal(0, 0.01, y.shape)\n",
        "  return X, y.reshape((-1, 1))\n",
        "  # -1 -> estimating from the dimention\n",
        "  # 1 -> confirmed by user\n",
        "  # y: 1차원의 타켓 값으로 재구성"
      ]
    },
    {
      "cell_type": "code",
      "execution_count": 8,
      "metadata": {
        "id": "HopU5nN1LLgC"
      },
      "outputs": [],
      "source": [
        "true_w = torch.tensor([2, -3.4])\n",
        "true_b = 4.2\n",
        "features, labels = synthetic_data(true_w, true_b, 1000)"
      ]
    },
    {
      "cell_type": "code",
      "execution_count": 9,
      "metadata": {
        "colab": {
          "base_uri": "https://localhost:8080/"
        },
        "id": "ACIbxVJGMMwd",
        "outputId": "61e70745-445d-48fa-c478-2ab3b4f0ade9"
      },
      "outputs": [
        {
          "name": "stdout",
          "output_type": "stream",
          "text": [
            "features:  tensor([-0.4806,  0.2970]) \n",
            "label:  tensor([2.2242])\n"
          ]
        }
      ],
      "source": [
        "print('features: ', features[0], '\\nlabel: ', labels[0])"
      ]
    },
    {
      "cell_type": "code",
      "execution_count": 10,
      "metadata": {
        "id": "dZeKZE99Mk6w"
      },
      "outputs": [],
      "source": [
        "# Reading the dataset\n",
        "\n",
        "#data_iter: 임의로 선택된 feature과 tag들을 batch size 만큼 리턴\n",
        "#왜 하나의 샘플을 사용하지 않고 여러 샘플을 사용? -> 최적화를 효율적으로!\n",
        "def data_iter(batch_size, features, labels):\n",
        "  num_examples = len(features)\n",
        "  indices = list(range(num_examples))\n",
        "  random.shuffle(indices)\n",
        "\n",
        "  #이 함수 이해 !!!\n",
        "  for i in range(0, num_examples, batch_size):\n",
        "    batch_indices = torch.tensor(\n",
        "        indices[i: min(i + batch_size, num_examples)])\n",
        "    yield features[batch_indices], labels[batch_indices]"
      ]
    },
    {
      "cell_type": "code",
      "execution_count": 11,
      "metadata": {
        "colab": {
          "base_uri": "https://localhost:8080/"
        },
        "id": "GQJf_070NhVE",
        "outputId": "646b4fd4-7d85-4a22-d5e7-3745cc017930"
      },
      "outputs": [
        {
          "name": "stdout",
          "output_type": "stream",
          "text": [
            "tensor([[-2.1558, -1.4840],\n",
            "        [ 0.6180, -0.2540],\n",
            "        [-0.4332,  0.2474],\n",
            "        [ 0.9920, -0.3920],\n",
            "        [ 0.8425,  0.6082],\n",
            "        [-0.3384,  0.1283],\n",
            "        [-0.7787, -0.4093],\n",
            "        [ 0.0390, -0.4910],\n",
            "        [ 0.8529, -0.6465],\n",
            "        [ 0.6911, -0.9827]]) \n",
            " tensor([[4.9387],\n",
            "        [6.2925],\n",
            "        [2.4789],\n",
            "        [7.5097],\n",
            "        [3.8202],\n",
            "        [3.0963],\n",
            "        [4.0277],\n",
            "        [5.9394],\n",
            "        [8.1163],\n",
            "        [8.8953]])\n"
          ]
        }
      ],
      "source": [
        "batch_size = 10\n",
        "\n",
        "for X, y in data_iter(batch_size, features, labels):\n",
        "  print(X, '\\n', y)\n",
        "  break"
      ]
    },
    {
      "cell_type": "code",
      "execution_count": 12,
      "metadata": {
        "id": "iqCFKug7Nue_"
      },
      "outputs": [],
      "source": [
        "#Initializing Model Parameters\n",
        "\n",
        "w = torch.normal(0, 0.01, size = (2,1), requires_grad=True)\n",
        "b = torch.zeros(1, requires_grad=True)\n",
        "#requires_grad 속성을 True로 설정 = 그 tensor에서 이뤄진 모든 연산들을 추적"
      ]
    },
    {
      "cell_type": "code",
      "execution_count": 13,
      "metadata": {
        "id": "DUJamfmcN39D"
      },
      "outputs": [],
      "source": [
        "#Defining the Model\n",
        "\n",
        "def linreg(X, w, b):\n",
        "  \"\"\"The linear regression model\"\"\"\n",
        "  return torch.matmul(X, w) + b"
      ]
    },
    {
      "cell_type": "code",
      "execution_count": 14,
      "metadata": {
        "id": "VvCvFlM9OBLF"
      },
      "outputs": [],
      "source": [
        "#Defining the Loss Function\n",
        "\n",
        "def squared_loss(y_hat, y):\n",
        "  \"\"\"Squred loss\"\"\"\n",
        "  return (y_hat - y.reshape(y_hat.shape))**2 /2\n",
        "  #y의 모양을 y_hat의 모양과 동일하게 바꿈"
      ]
    },
    {
      "cell_type": "code",
      "execution_count": 15,
      "metadata": {
        "id": "0pLbCxe2ON3H"
      },
      "outputs": [],
      "source": [
        "#Defining the Optimization Algorithm\n",
        "\n",
        "def sgd(params, lr, batch_size):\n",
        "  \"\"\"Minibatch stochastic gradient descent\"\"\"\n",
        "  with torch.no_grad(): \n",
        "    #메모리 사용량을 줄이기 위한 것 -> autograd가 requires_grad = True인 Tensor들의 연산 기록을 추적하는 것을 멈출 수 있음\n",
        "    for param in params:\n",
        "      param -= lr * param.grad / batch_size\n",
        "      param.grad.zero_()"
      ]
    },
    {
      "cell_type": "code",
      "execution_count": 16,
      "metadata": {
        "id": "pdQYWxwuOkn_"
      },
      "outputs": [],
      "source": [
        "#Training\n",
        "\n",
        "lr = 0.03\n",
        "num_epochs = 3\n",
        "net = linreg\n",
        "loss = squared_loss"
      ]
    },
    {
      "cell_type": "code",
      "execution_count": 17,
      "metadata": {
        "colab": {
          "base_uri": "https://localhost:8080/"
        },
        "id": "ocCPwAY5Osc_",
        "outputId": "c97183f6-9590-48d2-ad20-509af1524ea2"
      },
      "outputs": [
        {
          "name": "stdout",
          "output_type": "stream",
          "text": [
            "epoch 1, loss  0.035527\n",
            "epoch 2, loss  0.000123\n",
            "epoch 3, loss  0.000048\n"
          ]
        }
      ],
      "source": [
        "for epoch in range(num_epochs):\n",
        "  for X, y in data_iter(batch_size, features, labels):\n",
        "    l = loss(net(X, w, b), y)\n",
        "    l.sum().backward() #역전파 Backward Propagation\n",
        "    sgd([w, b], lr, batch_size)\n",
        "  with torch.no_grad():\n",
        "      train_l = loss(net(features, w, b), labels)\n",
        "      print(f'epoch {epoch + 1}, loss {float(train_l.mean()): f}')"
      ]
    },
    {
      "cell_type": "code",
      "execution_count": 18,
      "metadata": {
        "colab": {
          "base_uri": "https://localhost:8080/"
        },
        "id": "ZVqnJDyqPed8",
        "outputId": "929c3166-e5b3-4467-8df8-d86cdd759c19"
      },
      "outputs": [
        {
          "name": "stdout",
          "output_type": "stream",
          "text": [
            "error in estimating w: tensor([ 0.0008, -0.0001], grad_fn=<SubBackward0>)\n",
            "error in estimating b: tensor([0.0002], grad_fn=<RsubBackward1>)\n"
          ]
        }
      ],
      "source": [
        "print(f'error in estimating w: {true_w - w.reshape(true_w.shape)}')\n",
        "print(f'error in estimating b: {true_b - b}')"
      ]
    }
  ],
  "metadata": {
    "accelerator": "GPU",
    "colab": {
      "name": "03 Linear Neural Network.ipynb",
      "provenance": []
    },
    "kernelspec": {
      "display_name": "Python 3",
      "name": "python3"
    },
    "language_info": {
      "name": "python"
    }
  },
  "nbformat": 4,
  "nbformat_minor": 0
}
