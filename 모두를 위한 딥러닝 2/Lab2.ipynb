{
 "cells": [
  {
   "cell_type": "markdown",
   "metadata": {},
   "source": [
    "# 공부한 시간과 성적의 상관관계\n",
    "\n",
    "## Data definition\n",
    "\n",
    "- 데이터는 torch.tensor\n",
    "- 입력 따로, 출력 따로!\n",
    "\n",
    "1. 입력: x_train\n",
    "2. 출력: y_train\n",
    "3. 입출력은 x, y로 구분\n",
    "\n",
    "## Hypothesis\n",
    "- W: weight\n",
    "- b: bias\n",
    "-> w와 b를 학습시키는 것이 우리의 목적\n",
    "\n",
    "1. weight와 Bias를 0으로 초기화 -> 항상 출력 0을 예측\n",
    "2. requires_grad = True -> PyTorch! 이것들을 학습해라! (명시)\n",
    "\n",
    "## Compute loss\n",
    "- regression에서는 MSE로 loss 계산\n",
    "- y 값의 차이를 제곱하여 평균을 냄\n",
    "-> torch.mean\n",
    "\n",
    "##Grdient descent\n",
    ": 구해진 loss 값을 통해 모델 개선!\n",
    "-> torch.optim 라이브러리 사용\n",
    "\n",
    "1. torch.optim\n",
    " - [w, b]는 학습할 tensor들\n",
    " - lr = 0.01은 learning rate\n",
    "\n",
    "2. optim.SGD\n",
    " - zero_grad() 로 gradient 초기화\n",
    " - backward()로 gradient 계산\n",
    " - step()으로 개선"
   ]
  },
  {
   "cell_type": "code",
   "execution_count": 6,
   "metadata": {},
   "outputs": [],
   "source": [
    "import numpy as np\n",
    "import torch\n",
    "from torch import optim"
   ]
  },
  {
   "cell_type": "code",
   "execution_count": 7,
   "metadata": {},
   "outputs": [],
   "source": [
    "x_train = torch.FloatTensor([[1], [2], [3]])\n",
    "y_train = torch.FloatTensor([[2], [4], [6]])\n",
    "\n",
    "w = torch.zeros(1, requires_grad=True)\n",
    "b = torch.zeros(1, requires_grad=True)\n",
    "\n",
    "optimizer = optim.SGD([w, b], lr = 0.01)\n",
    "\n",
    "nb_epochs = 1000\n",
    "for epoch in range(1, nb_epochs +1):\n",
    "    hypothesis = x_train * w + b\n",
    "    cost = torch.mean((hypothesis - y_train) ** 2)\n",
    "\n",
    "    optimizer.zero_grad()\n",
    "    cost.backward()\n",
    "    optimizer.step()"
   ]
  }
 ],
 "metadata": {
  "interpreter": {
   "hash": "92adb05438905df6de4687daafcf1cce5d284141f7aba8feef918d2743df949f"
  },
  "kernelspec": {
   "display_name": "Python 3.8.8 64-bit ('base': conda)",
   "language": "python",
   "name": "python3"
  },
  "language_info": {
   "codemirror_mode": {
    "name": "ipython",
    "version": 3
   },
   "file_extension": ".py",
   "mimetype": "text/x-python",
   "name": "python",
   "nbconvert_exporter": "python",
   "pygments_lexer": "ipython3",
   "version": "3.8.8"
  },
  "orig_nbformat": 4
 },
 "nbformat": 4,
 "nbformat_minor": 2
}
