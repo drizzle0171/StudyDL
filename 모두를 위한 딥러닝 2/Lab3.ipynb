{
 "cells": [
  {
   "cell_type": "markdown",
   "metadata": {},
   "source": [
    "# Much simpler Hypothesis Function\n",
    "\n",
    "- only H(x) = w*x\n",
    "- No Bias\n",
    "\n",
    "## Cost function: 모델의 성능 평가\n",
    "- w = 1 일때 cost = 0\n",
    "- 1에서 멀어질수록 높아짐\n",
    "\n",
    "## Gradient Descent\n",
    "\n",
    "## Gradient Descent with torch.optim\n",
    "- torch.optim으로도 gradient descent를 할 수 있음\n"
   ]
  },
  {
   "cell_type": "code",
   "execution_count": 1,
   "metadata": {},
   "outputs": [],
   "source": [
    "import numpy as np\n",
    "import torch\n",
    "from torch import optim"
   ]
  },
  {
   "cell_type": "code",
   "execution_count": 4,
   "metadata": {},
   "outputs": [
    {
     "name": "stdout",
     "output_type": "stream",
     "text": [
      "Epoch    0/10, w: 0.000, Cost: 4.666667\n",
      "Epoch    1/10, w: 1.400, Cost: 0.746666\n",
      "Epoch    2/10, w: 0.840, Cost: 0.119467\n",
      "Epoch    3/10, w: 1.064, Cost: 0.019115\n",
      "Epoch    4/10, w: 0.974, Cost: 0.003058\n",
      "Epoch    5/10, w: 1.010, Cost: 0.000489\n",
      "Epoch    6/10, w: 0.996, Cost: 0.000078\n",
      "Epoch    7/10, w: 1.002, Cost: 0.000013\n",
      "Epoch    8/10, w: 0.999, Cost: 0.000002\n",
      "Epoch    9/10, w: 1.000, Cost: 0.000000\n",
      "Epoch   10/10, w: 1.000, Cost: 0.000000\n"
     ]
    }
   ],
   "source": [
    "# 데이터 입력\n",
    "x_train = torch.FloatTensor([[1], [2], [3]])\n",
    "y_train = torch.FloatTensor([[1],[2],[3]])\n",
    "\n",
    "# 모델 초기화\n",
    "w = torch.zeros(1)\n",
    "\n",
    "#learning rate 설정\n",
    "lr = 0.1\n",
    "\n",
    "nb_epochs = 10\n",
    "for epoch in range(nb_epochs + 1):\n",
    "\n",
    "    #H(x) 계산\n",
    "    hypothesis = x_train * w\n",
    "\n",
    "    #cost gradient 계산\n",
    "    cost = torch.mean((hypothesis - y_train)**2)\n",
    "    gradident = torch.sum((w*x_train - y_train) * x_train)\n",
    "\n",
    "    print('Epoch {:4d}/{}, w: {:.3f}, Cost: {:.6f}'.format(epoch, nb_epochs, w.item(), cost.item()))\n",
    "\n",
    "    #cost gradient 로 H(x) 계산\n",
    "    w -= lr * gradident\n",
    "\n",
    "    #Epoch 데이터로 학습한 횟수"
   ]
  },
  {
   "cell_type": "code",
   "execution_count": 8,
   "metadata": {},
   "outputs": [
    {
     "name": "stdout",
     "output_type": "stream",
     "text": [
      "Epoch    0/10, w: 0.000, Cost: 4.666667\n",
      "Epoch    1/10, w: 1.400, Cost: 0.746667\n",
      "Epoch    2/10, w: 0.840, Cost: 0.119467\n",
      "Epoch    3/10, w: 1.064, Cost: 0.019115\n",
      "Epoch    4/10, w: 0.974, Cost: 0.003058\n",
      "Epoch    5/10, w: 1.010, Cost: 0.000489\n",
      "Epoch    6/10, w: 0.996, Cost: 0.000078\n",
      "Epoch    7/10, w: 1.002, Cost: 0.000013\n",
      "Epoch    8/10, w: 0.999, Cost: 0.000002\n",
      "Epoch    9/10, w: 1.000, Cost: 0.000000\n",
      "Epoch   10/10, w: 1.000, Cost: 0.000000\n"
     ]
    }
   ],
   "source": [
    "# 데이터 입력\n",
    "x_train = torch.FloatTensor([[1], [2], [3]])\n",
    "y_train = torch.FloatTensor([[1], [2], [3]])\n",
    "\n",
    "# 모델 초기화\n",
    "w = torch.zeros(1, requires_grad=True)\n",
    "\n",
    "# optimizer 설정\n",
    "optimizer = optim.SGD([w], lr = 0.15)\n",
    "\n",
    "nb_epochs = 10\n",
    "for epoch in range(nb_epochs + 1):\n",
    "\n",
    "    #H(x) 계산\n",
    "    hypothesis = x_train * w\n",
    "\n",
    "    #cost 계산\n",
    "    cost = torch.mean((hypothesis - y_train)**2)\n",
    "\n",
    "    print('Epoch {:4d}/{}, w: {:.3f}, Cost: {:.6f}'.format(epoch, nb_epochs, w.item(), cost.item()))\n",
    "\n",
    "    #cost gradient 로 H(x) 계산\n",
    "    optimizer.zero_grad()\n",
    "    cost.backward()\n",
    "    optimizer.step()\n",
    "\n",
    "    # 학습하면서 점점 1에 수렴하는 w!\n",
    "    # 줄어드는 cost\n"
   ]
  }
 ],
 "metadata": {
  "interpreter": {
   "hash": "92adb05438905df6de4687daafcf1cce5d284141f7aba8feef918d2743df949f"
  },
  "kernelspec": {
   "display_name": "Python 3.8.8 64-bit ('base': conda)",
   "language": "python",
   "name": "python3"
  },
  "language_info": {
   "codemirror_mode": {
    "name": "ipython",
    "version": 3
   },
   "file_extension": ".py",
   "mimetype": "text/x-python",
   "name": "python",
   "nbconvert_exporter": "python",
   "pygments_lexer": "ipython3",
   "version": "3.8.8"
  },
  "orig_nbformat": 4
 },
 "nbformat": 4,
 "nbformat_minor": 2
}
