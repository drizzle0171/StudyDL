{
 "cells": [
  {
   "cell_type": "markdown",
   "metadata": {},
   "source": [
    "# Maximum Likelihood Estimation (MLE)\n",
    "= Gradient Ascent (최대를 찾는 것이기 때문임)\n",
    "\n",
    "# Overfitting\n",
    "- Maximum Likelihood Estimation은 숙명적으로 Overfitting이 됨\n",
    "- 훈련 세트와 테스트 세트로 나누어 확인\n",
    "- 테스트 세트를 통해 overfitting이 되는 것을 방지함 \n",
    "\n",
    "<방지>\n",
    "1. 더 많은 데이터\n",
    "2. 데이터 분포를 잘 설명하는 특징을 **줄이기**\n",
    "3. 정규화\n",
    "\n",
    "# Regularization\n",
    "- Early Stopping: Validation Loss가 더 이상 낮아지지 않을 때\n",
    "- Reducing Network Size\n",
    "- Weight Decay\n",
    "- Dropout ★\n",
    "- Batch Normalization ★"
   ]
  },
  {
   "cell_type": "code",
   "execution_count": 1,
   "metadata": {},
   "outputs": [],
   "source": [
    "import torch\n",
    "import torch.nn as nn\n",
    "import torch.optim as optim\n",
    "import torch.nn.functional as F"
   ]
  },
  {
   "cell_type": "code",
   "execution_count": 2,
   "metadata": {},
   "outputs": [
    {
     "data": {
      "text/plain": [
       "<torch._C.Generator at 0x1c0fcbd0ab0>"
      ]
     },
     "execution_count": 2,
     "metadata": {},
     "output_type": "execute_result"
    }
   ],
   "source": [
    "torch.manual_seed(1)"
   ]
  },
  {
   "cell_type": "code",
   "execution_count": 4,
   "metadata": {},
   "outputs": [],
   "source": [
    "x_train = torch.FloatTensor([[1,2,3],\n",
    "                             [1,3,2],\n",
    "                             [1,3,4],\n",
    "                             [1,5,5],\n",
    "                             [1,7,5],\n",
    "                             [1,2,5],\n",
    "                             [1,6,6],\n",
    "                             [1,7,7]])\n",
    "y_train = torch.LongTensor([2,2,2,1,1,1,0,0])\n",
    "\n",
    "x_test = torch.FloatTensor([[2,1,1],\n",
    "                            [3,1,2],\n",
    "                            [3,3,4]])\n",
    "y_test = torch.LongTensor([2,2,2])"
   ]
  },
  {
   "cell_type": "code",
   "execution_count": 8,
   "metadata": {},
   "outputs": [],
   "source": [
    "class SoftmaxClassifierModel(nn.Module):\n",
    "    def __init__(self) -> None:\n",
    "        super().__init__()\n",
    "        self.linear = nn.Linear(3,3)\n",
    "    def forward(self, x):\n",
    "        return self.linear(x)\n",
    "\n",
    "model = SoftmaxClassifierModel()\n",
    "\n",
    "#optimizer 설정\n",
    "optimizer = optim.SGD(model.parameters(), lr=0.1)"
   ]
  },
  {
   "cell_type": "code",
   "execution_count": 11,
   "metadata": {},
   "outputs": [],
   "source": [
    "def train(model, optimizer, x_train, y_train):\n",
    "    nb_epochs = 20\n",
    "    for epoch in range(nb_epochs):\n",
    "        #H(x) 계산\n",
    "        prediction = model(x_train)\n",
    "        #cost 계산\n",
    "        cost = F.cross_entropy(prediction, y_train)\n",
    "\n",
    "        #cost로 h(x) 개선\n",
    "        optimizer.zero_grad()\n",
    "        cost.backward()\n",
    "        optimizer.step()\n",
    "\n",
    "        print('Epoch {:4d}/{} Cost: {:.6f}'.format(\n",
    "            epoch, nb_epochs, cost.item()\n",
    "        ))"
   ]
  },
  {
   "cell_type": "code",
   "execution_count": 12,
   "metadata": {},
   "outputs": [],
   "source": [
    "def test(model, optimizer, x_test, y_test):\n",
    "    prediction = model(x_test)\n",
    "    predicted_classes = prediction.max(1)[1]\n",
    "    correct_count = (predicted_classes == y_test).sum().item()\n",
    "    cost = F.cross_entropy(prediction, y_test)\n",
    "\n",
    "    print('Accuracy: {}% Cost: {:.6f}'.format(\n",
    "        correct_count / len(y_test) * 100, cost.item()\n",
    "    ))"
   ]
  },
  {
   "cell_type": "code",
   "execution_count": 13,
   "metadata": {},
   "outputs": [
    {
     "name": "stdout",
     "output_type": "stream",
     "text": [
      "Epoch    0/20 Cost: 2.214913\n",
      "Epoch    1/20 Cost: 1.277324\n",
      "Epoch    2/20 Cost: 1.213158\n",
      "Epoch    3/20 Cost: 1.184269\n",
      "Epoch    4/20 Cost: 1.167165\n",
      "Epoch    5/20 Cost: 1.154966\n",
      "Epoch    6/20 Cost: 1.144420\n",
      "Epoch    7/20 Cost: 1.134938\n",
      "Epoch    8/20 Cost: 1.126035\n",
      "Epoch    9/20 Cost: 1.117556\n",
      "Epoch   10/20 Cost: 1.109393\n",
      "Epoch   11/20 Cost: 1.101498\n",
      "Epoch   12/20 Cost: 1.093841\n",
      "Epoch   13/20 Cost: 1.086401\n",
      "Epoch   14/20 Cost: 1.079168\n",
      "Epoch   15/20 Cost: 1.072130\n",
      "Epoch   16/20 Cost: 1.065279\n",
      "Epoch   17/20 Cost: 1.058609\n",
      "Epoch   18/20 Cost: 1.052113\n",
      "Epoch   19/20 Cost: 1.045784\n"
     ]
    }
   ],
   "source": [
    "train(model, optimizer, x_train, y_train)\n",
    "# by MLE"
   ]
  },
  {
   "cell_type": "code",
   "execution_count": 14,
   "metadata": {},
   "outputs": [
    {
     "name": "stdout",
     "output_type": "stream",
     "text": [
      "Accuracy: 0.0% Cost: 1.278216\n"
     ]
    }
   ],
   "source": [
    "test(model, optimizer, x_test, y_test)\n",
    "#cost가 train Epoch 19보다 큼"
   ]
  },
  {
   "cell_type": "markdown",
   "metadata": {},
   "source": [
    "learning rate가 너무 크면 diverge 하면서 cost가 점점 늘어난다 (=overshooting)"
   ]
  },
  {
   "cell_type": "code",
   "execution_count": 15,
   "metadata": {},
   "outputs": [],
   "source": [
    "model = SoftmaxClassifierModel()"
   ]
  },
  {
   "cell_type": "code",
   "execution_count": 16,
   "metadata": {},
   "outputs": [],
   "source": [
    "optimizer = optim.SGD(model.parameters(), lr=1e5)"
   ]
  },
  {
   "cell_type": "code",
   "execution_count": 17,
   "metadata": {},
   "outputs": [
    {
     "name": "stdout",
     "output_type": "stream",
     "text": [
      "Epoch    0/20 Cost: 1.308120\n",
      "Epoch    1/20 Cost: 1013819.562500\n",
      "Epoch    2/20 Cost: 1282156.125000\n",
      "Epoch    3/20 Cost: 1562634.750000\n",
      "Epoch    4/20 Cost: 1107569.500000\n",
      "Epoch    5/20 Cost: 1961843.500000\n",
      "Epoch    6/20 Cost: 240174.937500\n",
      "Epoch    7/20 Cost: 1161843.500000\n",
      "Epoch    8/20 Cost: 990382.062500\n",
      "Epoch    9/20 Cost: 1340759.750000\n",
      "Epoch   10/20 Cost: 1841531.000000\n",
      "Epoch   11/20 Cost: 1084132.000000\n",
      "Epoch   12/20 Cost: 1261843.500000\n",
      "Epoch   13/20 Cost: 1254822.250000\n",
      "Epoch   14/20 Cost: 1177882.000000\n",
      "Epoch   15/20 Cost: 1941531.125000\n",
      "Epoch   16/20 Cost: 262122.656250\n",
      "Epoch   17/20 Cost: 1254031.125000\n",
      "Epoch   18/20 Cost: 1089197.250000\n",
      "Epoch   19/20 Cost: 1229444.500000\n"
     ]
    }
   ],
   "source": [
    "train(model, optimizer, x_train, y_train)"
   ]
  },
  {
   "cell_type": "markdown",
   "metadata": {},
   "source": [
    "learning rate가 너무 작으면 cost가 거의 줄어들지 않는다."
   ]
  },
  {
   "cell_type": "code",
   "execution_count": 18,
   "metadata": {},
   "outputs": [],
   "source": [
    "model = SoftmaxClassifierModel()"
   ]
  },
  {
   "cell_type": "code",
   "execution_count": 19,
   "metadata": {},
   "outputs": [],
   "source": [
    "optimizer = optim.SGD(model.parameters(), lr=1e-10)\n",
    "#적절한 learning rate 설정 필수"
   ]
  },
  {
   "cell_type": "code",
   "execution_count": 20,
   "metadata": {},
   "outputs": [
    {
     "name": "stdout",
     "output_type": "stream",
     "text": [
      "Epoch    0/20 Cost: 3.185592\n",
      "Epoch    1/20 Cost: 3.185592\n",
      "Epoch    2/20 Cost: 3.185592\n",
      "Epoch    3/20 Cost: 3.185592\n",
      "Epoch    4/20 Cost: 3.185592\n",
      "Epoch    5/20 Cost: 3.185592\n",
      "Epoch    6/20 Cost: 3.185592\n",
      "Epoch    7/20 Cost: 3.185592\n",
      "Epoch    8/20 Cost: 3.185592\n",
      "Epoch    9/20 Cost: 3.185592\n",
      "Epoch   10/20 Cost: 3.185592\n",
      "Epoch   11/20 Cost: 3.185592\n",
      "Epoch   12/20 Cost: 3.185592\n",
      "Epoch   13/20 Cost: 3.185592\n",
      "Epoch   14/20 Cost: 3.185592\n",
      "Epoch   15/20 Cost: 3.185592\n",
      "Epoch   16/20 Cost: 3.185592\n",
      "Epoch   17/20 Cost: 3.185592\n",
      "Epoch   18/20 Cost: 3.185592\n",
      "Epoch   19/20 Cost: 3.185592\n"
     ]
    }
   ],
   "source": [
    "train(model, optimizer, x_train, y_train)"
   ]
  },
  {
   "cell_type": "markdown",
   "metadata": {},
   "source": [
    "# Data Preprocessing"
   ]
  },
  {
   "cell_type": "code",
   "execution_count": 21,
   "metadata": {},
   "outputs": [],
   "source": [
    "x_train = torch.FloatTensor([[73, 80, 75],\n",
    "                             [93, 88, 93],\n",
    "                             [89, 91, 90], \n",
    "                             [96, 98, 100], \n",
    "                             [73, 66, 70]])\n",
    "y_train = torch.FloatTensor([[152], [185], [180], [196], [142]])"
   ]
  },
  {
   "cell_type": "code",
   "execution_count": 23,
   "metadata": {},
   "outputs": [
    {
     "name": "stdout",
     "output_type": "stream",
     "text": [
      "tensor([[-1.0674, -0.3758, -0.8398],\n",
      "        [ 0.7418,  0.2778,  0.5863],\n",
      "        [ 0.3799,  0.5229,  0.3486],\n",
      "        [ 1.0132,  1.0948,  1.1409],\n",
      "        [-1.0674, -1.5197, -1.2360]])\n"
     ]
    }
   ],
   "source": [
    "# 표준화\n",
    "mu = x_train.mean(dim=0)\n",
    "sigma = x_train.std(dim=0)\n",
    "norm_x_train = (x_train - mu) / sigma\n",
    "print(norm_x_train)"
   ]
  },
  {
   "cell_type": "code",
   "execution_count": 27,
   "metadata": {},
   "outputs": [],
   "source": [
    "class MultivariateLinearRegressionModel(nn.Module):\n",
    "    def __init__(self) -> None:\n",
    "        super().__init__()\n",
    "        self.linear = nn.Linear(3,1)\n",
    "    def forward(self, x):\n",
    "        return self.linear(x)"
   ]
  },
  {
   "cell_type": "code",
   "execution_count": 31,
   "metadata": {},
   "outputs": [],
   "source": [
    "model = MultivariateLinearRegressionModel()"
   ]
  },
  {
   "cell_type": "code",
   "execution_count": 32,
   "metadata": {},
   "outputs": [],
   "source": [
    "optimizer = optim.SGD(model.parameters(), lr=1e-1)"
   ]
  },
  {
   "cell_type": "code",
   "execution_count": 33,
   "metadata": {},
   "outputs": [],
   "source": [
    "def train(model, optimizer, x_train, y_train):\n",
    "    nb_epochs = 20\n",
    "    for epoch in range(nb_epochs):\n",
    "        #H(x) 계산\n",
    "        prediction = model(x_train)\n",
    "        #cost 계산\n",
    "        cost = F.mse_loss(prediction, y_train)\n",
    "        #cost로 h(x) 개선\n",
    "        optimizer.zero_grad()\n",
    "        cost.backward()\n",
    "        optimizer.step()\n",
    "\n",
    "        print('Epoch {:4d}/{} Cost: {:.6f}'.format(\n",
    "            epoch, nb_epochs, cost.item()\n",
    "        ))"
   ]
  },
  {
   "cell_type": "code",
   "execution_count": 34,
   "metadata": {},
   "outputs": [
    {
     "name": "stdout",
     "output_type": "stream",
     "text": [
      "Epoch    0/20 Cost: 29729.949219\n",
      "Epoch    1/20 Cost: 18889.082031\n",
      "Epoch    2/20 Cost: 12048.978516\n",
      "Epoch    3/20 Cost: 7699.844727\n",
      "Epoch    4/20 Cost: 4924.700195\n",
      "Epoch    5/20 Cost: 3151.020264\n",
      "Epoch    6/20 Cost: 2016.562866\n",
      "Epoch    7/20 Cost: 1290.709229\n",
      "Epoch    8/20 Cost: 826.216003\n",
      "Epoch    9/20 Cost: 528.952271\n",
      "Epoch   10/20 Cost: 338.703308\n",
      "Epoch   11/20 Cost: 216.940033\n",
      "Epoch   12/20 Cost: 139.007050\n",
      "Epoch   13/20 Cost: 89.125130\n",
      "Epoch   14/20 Cost: 57.196125\n",
      "Epoch   15/20 Cost: 36.757317\n",
      "Epoch   16/20 Cost: 23.672049\n",
      "Epoch   17/20 Cost: 15.293421\n",
      "Epoch   18/20 Cost: 9.927165\n",
      "Epoch   19/20 Cost: 6.488914\n"
     ]
    }
   ],
   "source": [
    "train(model, optimizer, norm_x_train, y_train)\n",
    "#지금은 y_train이 하나의 값이지만, 여러 차원이면 전처리 필수"
   ]
  }
 ],
 "metadata": {
  "interpreter": {
   "hash": "92adb05438905df6de4687daafcf1cce5d284141f7aba8feef918d2743df949f"
  },
  "kernelspec": {
   "display_name": "Python 3.8.8 64-bit ('base': conda)",
   "language": "python",
   "name": "python3"
  },
  "language_info": {
   "codemirror_mode": {
    "name": "ipython",
    "version": 3
   },
   "file_extension": ".py",
   "mimetype": "text/x-python",
   "name": "python",
   "nbconvert_exporter": "python",
   "pygments_lexer": "ipython3",
   "version": "3.8.8"
  },
  "orig_nbformat": 4
 },
 "nbformat": 4,
 "nbformat_minor": 2
}
